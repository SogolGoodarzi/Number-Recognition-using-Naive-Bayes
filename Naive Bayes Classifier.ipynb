{
  "nbformat": 4,
  "nbformat_minor": 0,
  "metadata": {
    "colab": {
      "provenance": []
    },
    "kernelspec": {
      "name": "python3",
      "display_name": "Python 3"
    },
    "language_info": {
      "name": "python"
    }
  },
  "cells": [
    {
      "cell_type": "markdown",
      "source": [
        "### **Preprocessing:**"
      ],
      "metadata": {
        "id": "y2_TzvCH715p"
      }
    },
    {
      "cell_type": "code",
      "execution_count": null,
      "metadata": {
        "id": "34_ousIX7GBc",
        "colab": {
          "base_uri": "https://localhost:8080/"
        },
        "outputId": "4869c8ac-f5c9-40da-b2ab-47afd6dd0fac"
      },
      "outputs": [
        {
          "output_type": "stream",
          "name": "stdout",
          "text": [
            "Printing digit example #464 with label: 5\n",
            "                            \n",
            "                            \n",
            "                            \n",
            "                            \n",
            "                            \n",
            "                            \n",
            "                            \n",
            "                            \n",
            "              +++++++       \n",
            "             +### ### #++   \n",
            "            +###+ +++++++   \n",
            "           ###+             \n",
            "          ##++              \n",
            "         +##+               \n",
            "         +####+             \n",
            "          ++####+           \n",
            "             +##+           \n",
            "              +#+           \n",
            "             ++#+           \n",
            "          ++###++           \n",
            "     ##+# ### +             \n",
            "     +++++++                \n",
            "                            \n",
            "                            \n",
            "                            \n",
            "                            \n",
            "                            \n",
            "                            \n"
          ]
        }
      ],
      "source": [
        "import random\n",
        "\n",
        "DATA_WIDTH=28\n",
        "DATA_HEIGHT=28\n",
        "NUMBER_OF_TRAINING_EXAMPLES=5000\n",
        "NUMBER_OF_VALIDATION_EXAMPLES=1000\n",
        "\n",
        "ALL_TRAINING_IMAGES=[]\n",
        "ALL_TRAINING_LABELS=[]\n",
        "ALL_VALIDATION_IMAGES=[]\n",
        "ALL_VALIDATION_LABELS=[]\n",
        "\n",
        "'''\n",
        "Convert ASC-II pixel into numerical data and vice versa\n",
        "    - ' ' is converted to ..., which means it's part of the background\n",
        "    - '#' is converted to ..., part of the image interior\n",
        "    - '+' is converted to ..., part of the edges\n",
        "    \n",
        "'''\n",
        "\n",
        "def _pixel_to_value(character):\n",
        "    if(character == ' '):\n",
        "        return 0\n",
        "    elif(character == '#'):\n",
        "        return 1\n",
        "    elif(character == '+'):\n",
        "        return 2  \n",
        "    \n",
        "def _value_to_pixel(value):\n",
        "    if(value == 0):\n",
        "        return ' '\n",
        "    elif(value == 1):\n",
        "        return '#'\n",
        "    elif(value == 2):\n",
        "        return '+'\n",
        "'''\n",
        "Function for loading data and label files\n",
        "'''\n",
        "\n",
        "def _load_data_file(filename, n, width, height):\n",
        "    fin = [l[:-1] for l in open(filename).readlines()]\n",
        "    fin.reverse()\n",
        "    items = []\n",
        "    for i in range(n):\n",
        "        data = []\n",
        "        for j in range(height):\n",
        "            row = list(map(_pixel_to_value, list(fin.pop())))\n",
        "            data.append(row)\n",
        "        items.append(data)\n",
        "    return items\n",
        "        \n",
        "def _load_label_file(filename, n):\n",
        "    fin = [l[:-1] for l in open(filename).readlines()]\n",
        "    labels = []\n",
        "    for i in range(n):\n",
        "        labels.append(int(fin[i]))\n",
        "    return labels\n",
        "\n",
        "def _load_all_data():\n",
        "    global ALL_TRAINING_IMAGES\n",
        "    global ALL_TRAINING_LABELS\n",
        "    global ALL_VALIDATION_IMAGES\n",
        "    global ALL_VALIDATION_LABELS\n",
        "\n",
        "    ALL_TRAINING_IMAGES = _load_data_file(\"trainingimages\",\n",
        "        NUMBER_OF_TRAINING_EXAMPLES, DATA_WIDTH, DATA_HEIGHT)\n",
        "    ALL_TRAINING_LABELS = _load_label_file(\"traininglabels\",\n",
        "        NUMBER_OF_TRAINING_EXAMPLES)\n",
        "\n",
        "    ALL_VALIDATION_IMAGES = _load_data_file(\"validationimages\",\n",
        "        NUMBER_OF_VALIDATION_EXAMPLES, DATA_WIDTH, DATA_HEIGHT)\n",
        "    ALL_VALIDATION_LABELS = _load_label_file(\"validationlabels\",\n",
        "        NUMBER_OF_VALIDATION_EXAMPLES)\n",
        "\n",
        "'''\n",
        "Function for printing digits\n",
        "'''\n",
        "\n",
        "def _print_digit_image(data):\n",
        "    for row in range(len(data)):\n",
        "        print(''.join(map(_value_to_pixel, data[row])))\n",
        "    \n",
        "_load_all_data()\n",
        "\n",
        "example_number = random.randint(0, NUMBER_OF_TRAINING_EXAMPLES)\n",
        "print(\"Printing digit example #\" + str(example_number + 1) + \" with label: \" \\\n",
        "        + str(ALL_TRAINING_LABELS[example_number]))\n",
        "_print_digit_image(ALL_TRAINING_IMAGES[example_number])"
      ]
    },
    {
      "cell_type": "code",
      "source": [
        "## Importing libraries:\n",
        "import numpy as np\n",
        "\n",
        "## Loading data:\n",
        "DATA_WIDTH=28\n",
        "DATA_HEIGHT=28\n",
        "NUMBER_OF_TRAINING_EXAMPLES=5000\n",
        "NUMBER_OF_VALIDATION_EXAMPLES=1000\n",
        "\n",
        "x_train = _load_data_file(\"trainingimages\", NUMBER_OF_TRAINING_EXAMPLES, DATA_WIDTH, DATA_HEIGHT)\n",
        "y_train = _load_label_file(\"traininglabels\", NUMBER_OF_TRAINING_EXAMPLES)\n",
        "x_test = _load_data_file(\"validationimages\", NUMBER_OF_VALIDATION_EXAMPLES, DATA_WIDTH, DATA_HEIGHT)\n",
        "y_test = _load_label_file(\"validationlabels\", NUMBER_OF_VALIDATION_EXAMPLES)"
      ],
      "metadata": {
        "id": "Tc2HqsWTkIcT"
      },
      "execution_count": null,
      "outputs": []
    },
    {
      "cell_type": "code",
      "source": [
        "# Printing a sample digit with the new format:\n",
        "for row in range(int(len(x_train[50]))):\n",
        "    line = list(''.join(map(_value_to_pixel, x_train[50][row])))         ## Top half\n",
        "    print(line)"
      ],
      "metadata": {
        "colab": {
          "base_uri": "https://localhost:8080/"
        },
        "id": "JdfKP2Y38C1A",
        "outputId": "bc56d0d3-1e46-47d2-9771-092cbe7e8287"
      },
      "execution_count": null,
      "outputs": [
        {
          "output_type": "stream",
          "name": "stdout",
          "text": [
            "[' ', ' ', ' ', ' ', ' ', ' ', ' ', ' ', ' ', ' ', ' ', ' ', ' ', ' ', ' ', ' ', ' ', ' ', ' ', ' ', ' ', ' ', ' ', ' ', ' ', ' ', ' ', ' ']\n",
            "[' ', ' ', ' ', ' ', ' ', ' ', ' ', ' ', ' ', ' ', ' ', ' ', ' ', ' ', ' ', ' ', ' ', ' ', ' ', ' ', ' ', ' ', ' ', ' ', ' ', ' ', ' ', ' ']\n",
            "[' ', ' ', ' ', ' ', ' ', ' ', ' ', ' ', ' ', ' ', ' ', ' ', ' ', ' ', ' ', ' ', ' ', ' ', ' ', ' ', ' ', ' ', ' ', ' ', ' ', ' ', ' ', ' ']\n",
            "[' ', ' ', ' ', ' ', ' ', ' ', ' ', ' ', ' ', ' ', ' ', ' ', ' ', ' ', ' ', ' ', ' ', ' ', ' ', ' ', ' ', ' ', ' ', ' ', ' ', ' ', ' ', ' ']\n",
            "[' ', ' ', ' ', ' ', ' ', ' ', ' ', ' ', ' ', ' ', ' ', '+', '+', '+', '+', '#', '+', ' ', ' ', ' ', ' ', ' ', ' ', ' ', ' ', ' ', ' ', ' ']\n",
            "[' ', ' ', ' ', ' ', ' ', ' ', ' ', ' ', '+', '+', '#', '#', '#', '#', ' ', '#', '#', '+', ' ', ' ', ' ', ' ', ' ', ' ', ' ', ' ', ' ', ' ']\n",
            "[' ', ' ', ' ', ' ', ' ', ' ', ' ', ' ', '+', '+', '+', '+', '+', '+', '+', '+', '#', '+', ' ', ' ', ' ', ' ', ' ', ' ', ' ', ' ', ' ', ' ']\n",
            "[' ', ' ', ' ', ' ', ' ', ' ', ' ', ' ', '+', ' ', ' ', ' ', ' ', ' ', ' ', ' ', '#', '#', ' ', ' ', ' ', ' ', ' ', ' ', ' ', ' ', ' ', ' ']\n",
            "[' ', ' ', ' ', ' ', ' ', ' ', ' ', ' ', ' ', ' ', ' ', ' ', ' ', ' ', ' ', '+', '#', '+', ' ', ' ', ' ', ' ', ' ', ' ', ' ', ' ', ' ', ' ']\n",
            "[' ', ' ', ' ', ' ', ' ', ' ', ' ', ' ', ' ', ' ', ' ', ' ', ' ', ' ', ' ', '#', '#', '+', ' ', ' ', ' ', ' ', ' ', ' ', ' ', ' ', ' ', ' ']\n",
            "[' ', ' ', ' ', ' ', ' ', ' ', ' ', ' ', ' ', ' ', ' ', ' ', ' ', '+', '+', '#', '+', ' ', ' ', ' ', ' ', ' ', ' ', ' ', ' ', ' ', ' ', ' ']\n",
            "[' ', ' ', ' ', ' ', ' ', ' ', ' ', ' ', ' ', ' ', ' ', '+', '+', '#', '#', '#', '+', '+', ' ', ' ', ' ', ' ', ' ', ' ', ' ', ' ', ' ', ' ']\n",
            "[' ', ' ', ' ', ' ', ' ', ' ', ' ', ' ', ' ', ' ', ' ', '#', '#', '#', ' ', '#', '#', '#', '#', ' ', ' ', ' ', ' ', ' ', ' ', ' ', ' ', ' ']\n",
            "[' ', ' ', ' ', ' ', ' ', ' ', ' ', ' ', ' ', ' ', '+', '+', '+', '+', ' ', ' ', ' ', '+', '#', '+', ' ', ' ', ' ', ' ', ' ', ' ', ' ', ' ']\n",
            "[' ', ' ', ' ', ' ', ' ', ' ', ' ', ' ', ' ', ' ', ' ', ' ', ' ', ' ', ' ', ' ', ' ', ' ', '+', '#', ' ', ' ', ' ', ' ', ' ', ' ', ' ', ' ']\n",
            "[' ', ' ', ' ', ' ', ' ', ' ', ' ', ' ', ' ', ' ', ' ', ' ', ' ', ' ', ' ', ' ', ' ', ' ', '+', '#', ' ', ' ', ' ', ' ', ' ', ' ', ' ', ' ']\n",
            "[' ', ' ', ' ', ' ', ' ', ' ', ' ', ' ', ' ', ' ', ' ', ' ', ' ', ' ', ' ', ' ', ' ', ' ', '+', '#', '+', ' ', ' ', ' ', ' ', ' ', ' ', ' ']\n",
            "[' ', ' ', ' ', ' ', ' ', ' ', ' ', ' ', ' ', ' ', ' ', ' ', ' ', ' ', ' ', ' ', ' ', ' ', '+', '#', ' ', ' ', ' ', ' ', ' ', ' ', ' ', ' ']\n",
            "[' ', ' ', ' ', ' ', ' ', ' ', ' ', ' ', ' ', ' ', ' ', ' ', ' ', ' ', ' ', ' ', ' ', ' ', '#', '#', ' ', ' ', ' ', ' ', ' ', ' ', ' ', ' ']\n",
            "[' ', ' ', ' ', ' ', ' ', ' ', ' ', ' ', '+', ' ', ' ', ' ', ' ', ' ', ' ', ' ', ' ', '+', '#', '+', ' ', ' ', ' ', ' ', ' ', ' ', ' ', ' ']\n",
            "[' ', ' ', ' ', ' ', ' ', ' ', ' ', '+', '#', '+', '+', ' ', ' ', ' ', ' ', '+', '+', '#', '#', '+', ' ', ' ', ' ', ' ', ' ', ' ', ' ', ' ']\n",
            "[' ', ' ', ' ', ' ', ' ', ' ', ' ', ' ', '#', '#', '#', '+', '+', '+', '+', '#', '#', ' ', '+', ' ', ' ', ' ', ' ', ' ', ' ', ' ', ' ', ' ']\n",
            "[' ', ' ', ' ', ' ', ' ', ' ', ' ', ' ', '+', '#', '#', '#', '#', '#', '#', '#', '+', ' ', ' ', ' ', ' ', ' ', ' ', ' ', ' ', ' ', ' ', ' ']\n",
            "[' ', ' ', ' ', ' ', ' ', ' ', ' ', ' ', ' ', '+', '+', '#', '#', '+', '+', ' ', ' ', ' ', ' ', ' ', ' ', ' ', ' ', ' ', ' ', ' ', ' ', ' ']\n",
            "[' ', ' ', ' ', ' ', ' ', ' ', ' ', ' ', ' ', ' ', ' ', ' ', ' ', ' ', ' ', ' ', ' ', ' ', ' ', ' ', ' ', ' ', ' ', ' ', ' ', ' ', ' ', ' ']\n",
            "[' ', ' ', ' ', ' ', ' ', ' ', ' ', ' ', ' ', ' ', ' ', ' ', ' ', ' ', ' ', ' ', ' ', ' ', ' ', ' ', ' ', ' ', ' ', ' ', ' ', ' ', ' ', ' ']\n",
            "[' ', ' ', ' ', ' ', ' ', ' ', ' ', ' ', ' ', ' ', ' ', ' ', ' ', ' ', ' ', ' ', ' ', ' ', ' ', ' ', ' ', ' ', ' ', ' ', ' ', ' ', ' ', ' ']\n",
            "[' ', ' ', ' ', ' ', ' ', ' ', ' ', ' ', ' ', ' ', ' ', ' ', ' ', ' ', ' ', ' ', ' ', ' ', ' ', ' ', ' ', ' ', ' ', ' ', ' ', ' ', ' ', ' ']\n"
          ]
        }
      ]
    },
    {
      "cell_type": "markdown",
      "source": [
        "### **Feature 1: Calculate the width and height of the digit**"
      ],
      "metadata": {
        "id": "aDkYRYv9cfiJ"
      }
    },
    {
      "cell_type": "code",
      "source": [
        "def Feature1(data):\n",
        "  ind_width = []\n",
        "  ind_height = []\n",
        "  for row in range(len(data)):\n",
        "    line = list(''.join(map(_value_to_pixel, data[row])))\n",
        "    ind = np.where(np.array(line) != ' ')\n",
        "    if ind[0].any(): ind_width.append(np.max(ind) - np.min(ind))\n",
        "    else: ind_width.append(0)\n",
        "    if (line.count('#') != 0) | (line.count('+') != 0):\n",
        "      ind_height.append(row)\n",
        "  height = np.max(ind_height) - np.min(ind_height)+1\n",
        "  width = np.max(ind_width)\n",
        "  return width, height"
      ],
      "metadata": {
        "id": "yNsCxnXU50JR"
      },
      "execution_count": null,
      "outputs": []
    },
    {
      "cell_type": "markdown",
      "source": [
        "### **Feature 2: Calculate the number of #s and +s in the top and bottom half**"
      ],
      "metadata": {
        "id": "ctjLaIvoctqj"
      }
    },
    {
      "cell_type": "code",
      "source": [
        "def Feature2(data):\n",
        "  sharp_count_top = 0\n",
        "  plus_count_top = 0\n",
        "  sharp_count_bottom = 0\n",
        "  plus_count_bottom = 0\n",
        "  data_top = data[0:int(len(data)/2)]\n",
        "  data_bottom = data[int(len(data)/2):]\n",
        "  for row in range(int(len(data)/2)):\n",
        "    line = list(''.join(map(_value_to_pixel, data_top[row])))     ## Top half\n",
        "    sharp_count_top += line.count('#')\n",
        "    plus_count_top += line.count('+')\n",
        "    line = list(''.join(map(_value_to_pixel, data_bottom[row])))  ## Bottom half\n",
        "    sharp_count_bottom += line.count('#')\n",
        "    plus_count_bottom += line.count('+')\n",
        "\n",
        "  return sharp_count_top, plus_count_top, sharp_count_bottom, plus_count_bottom"
      ],
      "metadata": {
        "id": "BcZFRv7pXyNm"
      },
      "execution_count": null,
      "outputs": []
    },
    {
      "cell_type": "markdown",
      "source": [
        "### **Feature 3: Average of the line width**"
      ],
      "metadata": {
        "id": "sslObULfc7U8"
      }
    },
    {
      "cell_type": "code",
      "source": [
        "def Feature3(data):\n",
        "  line_width = []\n",
        "  for row in range(len(data)):\n",
        "    line = list(''.join(map(_value_to_pixel, data[row])))\n",
        "    line_width.append(line.count('#') + line.count('+'))\n",
        "\n",
        "  avg_line_width = np.mean(line_width)\n",
        "  return avg_line_width"
      ],
      "metadata": {
        "id": "2khx39AocWyR"
      },
      "execution_count": null,
      "outputs": []
    },
    {
      "cell_type": "markdown",
      "source": [
        "### **Implementing the algorithm:**"
      ],
      "metadata": {
        "id": "ujr3lOn2jTij"
      }
    },
    {
      "cell_type": "code",
      "source": [
        "# A function for calculating the Gaussian distribution:\n",
        "def Gaussian_dist(mu, sigma, x):\n",
        "  return (1/(sigma*np.sqrt(2*np.pi)))*np.exp(-0.5*((x-mu)/sigma)**2)\n",
        "\n",
        "# ------------------------------------------------------------------------------\n",
        "# A function for calculating first and second features' mean and standar deviation:\n",
        "def F1_F2_parameters(x_train, y_train, class_num):\n",
        "  ind_class = [i for i in range(len(y_train)) if y_train[i] == class_num]\n",
        "  data = list(np.array(x_train)[ind_class])\n",
        "  Width = []\n",
        "  Height = []\n",
        "  for j in range(len(data)):\n",
        "    digit = data[j]\n",
        "    [width, height] = Feature1(digit)\n",
        "    Width.append(width)\n",
        "    Height.append(height)\n",
        "\n",
        "  mu_width = np.mean(Width)\n",
        "  mu_height = np.mean(Height)\n",
        "  std_width = np.std(Width)\n",
        "  std_height = np.std(Height)\n",
        "  return mu_width, mu_height, std_width, std_height\n",
        "\n",
        "# ------------------------------------------------------------------------------\n",
        "# A function for calculating features 3 through 6 parameters:\n",
        "def F3_6_parameters(x_train, y_train, class_num):\n",
        "  ind_class = [i for i in range(len(y_train)) if y_train[i] == class_num]\n",
        "  data = list(np.array(x_train)[ind_class])\n",
        "  feature3 = []\n",
        "  feature4 = []\n",
        "  feature5 = []\n",
        "  feature6 = []\n",
        "  for j in range(len(data)):\n",
        "    digit = data[j]\n",
        "    [sharp_count_top, plus_count_top, sharp_count_bottom, plus_count_bottom] = Feature2(digit)\n",
        "    feature3.append(sharp_count_top)\n",
        "    feature4.append(plus_count_top)\n",
        "    feature5.append(sharp_count_bottom)\n",
        "    feature6.append(plus_count_bottom)\n",
        "  mu3 = np.mean(feature3)\n",
        "  mu4 = np.mean(feature4)\n",
        "  mu5 = np.mean(feature5)\n",
        "  mu6 = np.mean(feature6)\n",
        "  std3 = np.std(feature3)\n",
        "  std4 = np.std(feature4)\n",
        "  std5 = np.std(feature5)\n",
        "  std6 = np.std(feature6)\n",
        "  return mu3, mu4, mu5, mu6, std3, std4, std5, std6\n",
        "\n",
        "# ------------------------------------------------------------------------------\n",
        "# A function for calculating feature 7 parameters:\n",
        "def F7_parameters(x_train, y_train, class_num):\n",
        "  ind_class = [i for i in range(len(y_train)) if y_train[i] == class_num]\n",
        "  data = list(np.array(x_train)[ind_class])\n",
        "  Line_widths = []\n",
        "  for j in range(len(data)):\n",
        "    digit = data[j]\n",
        "    avg_line_width = Feature3(digit)\n",
        "    Line_widths.append(avg_line_width)\n",
        "  mu_line_width = np.mean(Line_widths)\n",
        "  std_line_width = np.std(Line_widths)\n",
        "  return mu_line_width, std_line_width\n",
        "\n",
        "# ------------------------------------------------------------------------------\n",
        "# A function for calculating all the parameters of 7 features in each class:\n",
        "def Calculate_parameters(x_train):\n",
        "  MU_F1 = []\n",
        "  MU_F2 = []\n",
        "  MU_F3 = []\n",
        "  MU_F4 = []\n",
        "  MU_F5 = []\n",
        "  MU_F6 = []\n",
        "  MU_F7 = []\n",
        "\n",
        "  STD_F1 = []\n",
        "  STD_F2 = []\n",
        "  STD_F3 = []\n",
        "  STD_F4 = []\n",
        "  STD_F5 = []\n",
        "  STD_F6 = []\n",
        "  STD_F7 = []\n",
        "\n",
        "  for i in range(10):\n",
        "    [mu_width, mu_height, std_width, std_height] = F1_F2_parameters(x_train, y_train, i)\n",
        "    MU_F1.append(mu_width)\n",
        "    MU_F2.append(mu_height)\n",
        "    STD_F1.append(std_width)\n",
        "    STD_F2.append(std_height)\n",
        "    [mu3, mu4, mu5, mu6, std3, std4, std5, std6] = F3_6_parameters(x_train, y_train, i)\n",
        "    MU_F3.append(mu3)\n",
        "    MU_F4.append(mu4)\n",
        "    MU_F5.append(mu5)\n",
        "    MU_F6.append(mu6)\n",
        "    STD_F3.append(std3)\n",
        "    STD_F4.append(std4)\n",
        "    STD_F5.append(std5)\n",
        "    STD_F6.append(std6)\n",
        "    [mu_line_width, std_line_width] = F7_parameters(x_train, y_train, i)\n",
        "    MU_F7.append(mu_line_width)\n",
        "    STD_F7.append(std_line_width)\n",
        "\n",
        "  return MU_F1, MU_F2, MU_F3, MU_F4, MU_F5, MU_F6, MU_F7, STD_F1, STD_F2, STD_F3, STD_F4, STD_F5, STD_F6, STD_F7\n",
        "\n",
        "# ------------------------------------------------------------------------------\n",
        "# A function for calculating the prior probabilities of each class:\n",
        "def prior_probs(y_train):\n",
        "  prior_prob = []\n",
        "  for i in range(10):\n",
        "    prior_prob.append(y_train.count(i)/len(y_train))\n",
        "  return prior_prob"
      ],
      "metadata": {
        "id": "SlDWCfdycWqa"
      },
      "execution_count": null,
      "outputs": []
    },
    {
      "cell_type": "code",
      "source": [
        "def Classifier(x_train, y_train, prior_prob, test_data, MU_F1, MU_F2, MU_F3, MU_F4, MU_F5, MU_F6, MU_F7, STD_F1, STD_F2, STD_F3, STD_F4, STD_F5, STD_F6, STD_F7):\n",
        "  classes_probs = []\n",
        "  for i in range(10):\n",
        "    # Calculating the probabilities for each class:\n",
        "    [width_test, height_test] = Feature1(test_data)\n",
        "    [f3_test, f4_test, f5_test, f6_test] = Feature2(test_data)\n",
        "    avg_line_width = Feature3(test_data)\n",
        "    Gauss_F1 = Gaussian_dist(MU_F1[i], STD_F1[i], width_test)\n",
        "    Gauss_F2 = Gaussian_dist(MU_F2[i], STD_F2[i], height_test)\n",
        "    Gauss_F3 = Gaussian_dist(MU_F3[i], STD_F3[i], f3_test)\n",
        "    Gauss_F4 = Gaussian_dist(MU_F4[i], STD_F4[i], f4_test)\n",
        "    Gauss_F5 = Gaussian_dist(MU_F5[i], STD_F5[i], f5_test)\n",
        "    Gauss_F6 = Gaussian_dist(MU_F6[i], STD_F6[i], f6_test)\n",
        "    Gauss_F7 = Gaussian_dist(MU_F7[i], STD_F7[i], avg_line_width)\n",
        "    classes_probs.append(prior_prob[i]*Gauss_F1*Gauss_F2*Gauss_F3*Gauss_F4*Gauss_F5*Gauss_F6*Gauss_F7)\n",
        "\n",
        "  predicted_label = np.argmax(classes_probs)\n",
        "  return predicted_label"
      ],
      "metadata": {
        "id": "UVfDJyY9cWsi"
      },
      "execution_count": null,
      "outputs": []
    },
    {
      "cell_type": "markdown",
      "source": [
        "### **Accuracy of the model:**"
      ],
      "metadata": {
        "id": "0OpcxO6ArTJ5"
      }
    },
    {
      "cell_type": "code",
      "source": [
        "def accuracy(y_test, y_pred):\n",
        "  count = 0\n",
        "  for i in range(len(y_test)):\n",
        "    if y_test[i] == y_pred[i]:\n",
        "      count += 1\n",
        "  acc = count/len(y_test)\n",
        "  print('The accuracy of the model is: {}%'.format(acc*100))"
      ],
      "metadata": {
        "id": "9jO8pLRQR5Yb"
      },
      "execution_count": null,
      "outputs": []
    },
    {
      "cell_type": "markdown",
      "source": [
        "### **Testing the model and finding the accuracy:**"
      ],
      "metadata": {
        "id": "Q0lTKfuCSe-o"
      }
    },
    {
      "cell_type": "code",
      "source": [
        "# Calculate the parameters for each class:\n",
        "[MU_F1, MU_F2, MU_F3, MU_F4, MU_F5, MU_F6, MU_F7, STD_F1, STD_F2, STD_F3, STD_F4, STD_F5, STD_F6, STD_F7] = Calculate_parameters(x_train)\n",
        "\n",
        "# Calculating Prior probabilities:\n",
        "Prior_Probabilities = prior_probs(y_train)\n",
        "\n",
        "# Evaluating the model by test data:\n",
        "y_pred = []\n",
        "for i in range(len(x_test)):\n",
        "  y_pred.append(Classifier(x_train, y_train, Prior_Probabilities, x_test[i], MU_F1, MU_F2, MU_F3, MU_F4, MU_F5, MU_F6, MU_F7, STD_F1, STD_F2, STD_F3, STD_F4, STD_F5, STD_F6, STD_F7))\n",
        "\n",
        "# Accuracy:\n",
        "accuracy(y_test, y_pred)"
      ],
      "metadata": {
        "colab": {
          "base_uri": "https://localhost:8080/"
        },
        "id": "_VmfUXzBSlO7",
        "outputId": "1613a7cd-0d04-40ed-f768-e125803c1d5e"
      },
      "execution_count": null,
      "outputs": [
        {
          "output_type": "stream",
          "name": "stdout",
          "text": [
            "The accuracy of the model is: 34.699999999999996%\n"
          ]
        }
      ]
    }
  ]
}